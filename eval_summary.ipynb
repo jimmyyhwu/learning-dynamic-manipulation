{
 "cells": [
  {
   "cell_type": "code",
   "execution_count": null,
   "metadata": {},
   "outputs": [],
   "source": [
    "import math\n",
    "from multiprocessing import cpu_count, Pool\n",
    "\n",
    "import ipywidgets as widgets\n",
    "\n",
    "# Avoid non-compliant Type 3 fonts\n",
    "import matplotlib\n",
    "matplotlib.rcParams['pdf.fonttype'] = 42  # pylint: disable=wrong-import-position\n",
    "\n",
    "import matplotlib.pyplot as plt\n",
    "import numpy as np\n",
    "import pandas as pd\n",
    "from IPython.display import display\n",
    "from ipywidgets import interact\n",
    "from tqdm.notebook import tqdm\n",
    "\n",
    "import utils"
   ]
  },
  {
   "cell_type": "code",
   "execution_count": null,
   "metadata": {},
   "outputs": [],
   "source": [
    "pd.set_option('display.max_rows', None)\n",
    "plt.rcParams['figure.figsize'] = (12, 8)"
   ]
  },
  {
   "cell_type": "code",
   "execution_count": null,
   "metadata": {},
   "outputs": [],
   "source": [
    "logs_dir = utils.get_logs_dir()\n",
    "eval_dir = utils.get_eval_dir()\n",
    "env_names = ['small_empty', 'large_empty', 'large_columns', 'large_door', 'large_center']\n",
    "step_size = 100"
   ]
  },
  {
   "cell_type": "code",
   "execution_count": null,
   "metadata": {},
   "outputs": [],
   "source": [
    "# Load all runs\n",
    "def get_cfgs():\n",
    "    config_paths = sorted([x / 'config.yml' for x in logs_dir.iterdir() if x.is_dir()])\n",
    "    with Pool(cpu_count()) as p:\n",
    "        return list(tqdm(p.imap(utils.load_config, config_paths), total=len(config_paths)))\n",
    "cfgs = get_cfgs()"
   ]
  },
  {
   "cell_type": "code",
   "execution_count": null,
   "metadata": {},
   "outputs": [],
   "source": [
    "# def get_result_for_run(cfg):\n",
    "#     metric_name = 'objects'\n",
    "#     eval_path = eval_dir / f'{cfg.run_name}.npy'\n",
    "#     data = np.load(eval_path, allow_pickle=True)\n",
    "#     run_results = []\n",
    "#     for episode in data:\n",
    "#         run_results.append(episode[-1][metric_name])\n",
    "#     return np.nanmean(run_results)"
   ]
  },
  {
   "cell_type": "code",
   "execution_count": null,
   "metadata": {},
   "outputs": [],
   "source": [
    "# def get_all_results():\n",
    "#     results = {}\n",
    "#     with Pool(cpu_count()) as p:\n",
    "#         result_per_run = list(tqdm(p.imap(get_result_for_run, cfgs), total=len(cfgs)))\n",
    "#     for cfg, run_result in zip(cfgs, result_per_run):\n",
    "#         if cfg.env_name not in results:\n",
    "#             results[cfg.env_name] = {}\n",
    "#         if cfg.experiment_name not in results[cfg.env_name]:\n",
    "#             results[cfg.env_name][cfg.experiment_name] = []\n",
    "#         results[cfg.env_name][cfg.experiment_name].append(run_result)\n",
    "\n",
    "#     for env_results in results.values():\n",
    "#         for experiment_name, values in env_results.items():\n",
    "#             env_results[experiment_name] = f'{np.mean(values):.2f} ± {np.std(values):.2f}'\n",
    "#     return results"
   ]
  },
  {
   "cell_type": "code",
   "execution_count": null,
   "metadata": {},
   "outputs": [],
   "source": [
    "def extend_curves(curves, min_len=None):\n",
    "    if len(curves) == 0:\n",
    "        return curves\n",
    "    max_length = max(len(curve) for curve in curves)\n",
    "    if min_len is not None:\n",
    "        max_length = max(max_length, min_len)\n",
    "    for i, curve in enumerate(curves):\n",
    "        curves[i] = np.pad(curve, (0, max_length - len(curve)), 'edge')\n",
    "    return curves"
   ]
  },
  {
   "cell_type": "code",
   "execution_count": null,
   "metadata": {},
   "outputs": [],
   "source": [
    "def get_curve_for_run(cfg):\n",
    "    metric_name = 'objects'\n",
    "    eval_path = eval_dir / f'{cfg.run_name}.npy'\n",
    "    data = np.load(eval_path, allow_pickle=True)\n",
    "    episode_curves = []\n",
    "    for episode in data:\n",
    "        values = np.array([step[metric_name] for step in episode])\n",
    "        simulation_steps = np.array([step['simulation_steps'] for step in episode])\n",
    "        x = np.arange(0, simulation_steps[-1] + step_size, step_size)\n",
    "        xp, fp = simulation_steps, values\n",
    "        episode_curves.append(np.floor(np.interp(x, xp, fp, left=0)))\n",
    "\n",
    "    return np.mean(extend_curves(episode_curves), axis=0)"
   ]
  },
  {
   "cell_type": "code",
   "execution_count": null,
   "metadata": {},
   "outputs": [],
   "source": [
    "def get_all_curves():\n",
    "    curves = {}\n",
    "    with Pool(cpu_count()) as p:\n",
    "        curve_per_run = list(tqdm(p.imap(get_curve_for_run, cfgs), total=len(cfgs)))\n",
    "    for cfg, run_curve in zip(cfgs, curve_per_run):\n",
    "        if cfg.env_name not in curves:\n",
    "            curves[cfg.env_name] = {}\n",
    "        if cfg.experiment_name not in curves[cfg.env_name]:\n",
    "            curves[cfg.env_name][cfg.experiment_name] = []\n",
    "        curves[cfg.env_name][cfg.experiment_name].append(run_curve)\n",
    "    return curves"
   ]
  },
  {
   "cell_type": "code",
   "execution_count": null,
   "metadata": {},
   "outputs": [],
   "source": [
    "all_curves = get_all_curves()"
   ]
  },
  {
   "cell_type": "code",
   "execution_count": null,
   "metadata": {},
   "outputs": [],
   "source": [
    "def get_all_cutoffs():\n",
    "    cutoffs = {}\n",
    "    reference_experiment_names = {\n",
    "        'blowing_1-small_empty-multifreq_4',\n",
    "        'blowing_1-large_empty-multifreq_4',\n",
    "        'blowing_1-large_columns-multifreq_4',\n",
    "        'blowing_1-large_door-multifreq_4',\n",
    "        'blowing_1-large_center-multifreq_4',\n",
    "    }\n",
    "    for cfg in tqdm(cfgs):\n",
    "        if cfg.experiment_name not in reference_experiment_names:\n",
    "            continue\n",
    "        if cfg.env_name not in cutoffs:\n",
    "            cutoffs[cfg.env_name] = float('inf')\n",
    "\n",
    "        # Find the time at which the last object was successfully cleaned up\n",
    "        y_mean = np.mean(extend_curves(all_curves[cfg.env_name][cfg.experiment_name]), axis=0)\n",
    "        this_len = np.searchsorted(y_mean > y_mean[-1] - 0.5, True)  # Subtract 0.5 since interpolated curves are continuous\n",
    "        cutoffs[cfg.env_name] = min(cutoffs[cfg.env_name], this_len)\n",
    "    return cutoffs"
   ]
  },
  {
   "cell_type": "code",
   "execution_count": null,
   "metadata": {},
   "outputs": [],
   "source": [
    "all_cutoffs = get_all_cutoffs()"
   ]
  },
  {
   "cell_type": "code",
   "execution_count": null,
   "metadata": {},
   "outputs": [],
   "source": [
    "def get_all_results():\n",
    "    results = {}\n",
    "    for cfg in tqdm(cfgs):\n",
    "        cutoff = all_cutoffs[cfg.env_name]\n",
    "        curves = extend_curves(all_curves[cfg.env_name][cfg.experiment_name], min_len=(cutoff + 1))\n",
    "        objects = [curve[cutoff] for curve in curves]\n",
    "        if cfg.env_name not in results:\n",
    "            results[cfg.env_name] = {}\n",
    "        results[cfg.env_name][cfg.experiment_name] = '{:.2f} ± {:.2f}'.format(np.mean(objects), np.std(objects))\n",
    "    return results"
   ]
  },
  {
   "cell_type": "code",
   "execution_count": null,
   "metadata": {},
   "outputs": [],
   "source": [
    "all_results = get_all_results()"
   ]
  },
  {
   "cell_type": "code",
   "execution_count": null,
   "metadata": {},
   "outputs": [],
   "source": [
    "def show_table():\n",
    "    def f(env_name):\n",
    "        data = {'performance': all_results[env_name]}\n",
    "        display(pd.DataFrame(data))\n",
    "\n",
    "    env_name_dropdown = widgets.RadioButtons(options=env_names)\n",
    "    interact(f, env_name=env_name_dropdown)"
   ]
  },
  {
   "cell_type": "code",
   "execution_count": null,
   "metadata": {},
   "outputs": [],
   "source": [
    "show_table()"
   ]
  },
  {
   "cell_type": "code",
   "execution_count": null,
   "metadata": {},
   "outputs": [],
   "source": [
    "def plot_curves(env_name, experiment_names,\n",
    "                title=None, labels=None, legend_order=None, x_tick_step_size=None, x_lim_right=None, fontsize=26):\n",
    "    # Plot curves\n",
    "    for experiment_name in experiment_names:\n",
    "        #plt.axvline(all_cutoffs[env_name] * step_size, linewidth=1, c='r')\n",
    "        curves = extend_curves(all_curves[env_name][experiment_name])\n",
    "        x = np.arange(0, (len(curves[0]) - 0.5) * step_size, step_size)\n",
    "        y_mean, y_std = np.mean(curves, axis=0), np.std(curves, axis=0)\n",
    "        plt.plot(x, y_mean, label=experiment_name if labels is None else labels[experiment_name])\n",
    "        plt.fill_between(x, y_mean - y_std, y_mean + y_std, alpha=0.2)\n",
    "\n",
    "    # Set up x-axis\n",
    "    plt.xlabel('Simulation steps', fontsize=fontsize)\n",
    "    if x_lim_right is not None and x_tick_step_size is not None:\n",
    "        plt.xlim(0, x_lim_right)\n",
    "        get_x_label = lambda x: 0 if x == 0 else f'{(x_tick_step_size // 1000) * x}k'\n",
    "        x_labels = [get_x_label(i) for i in range(math.ceil((x_lim_right) / x_tick_step_size))]\n",
    "        plt.xticks(range(0, x_lim_right, x_tick_step_size), labels=x_labels, fontsize=(fontsize - 8))\n",
    "    else:\n",
    "        plt.xlim(0)\n",
    "        plt.xticks(fontsize=(fontsize - 8))\n",
    "\n",
    "    # Set up y-axis\n",
    "    plt.ylabel('Num objects', fontsize=fontsize)\n",
    "    if env_name.startswith('large'):\n",
    "        num_objects = 100\n",
    "    else:\n",
    "        num_objects = 50\n",
    "    plt.ylim(0, num_objects)\n",
    "    plt.yticks(range(0, num_objects + 1, max(1, num_objects // 5)), fontsize=(fontsize - 8))\n",
    "\n",
    "    # Title\n",
    "    if title is not None:\n",
    "        plt.title(title, fontsize=(fontsize + 4), y=1.05)\n",
    "\n",
    "    # Legend\n",
    "    if legend_order is not None:\n",
    "        handles, labels = plt.gca().get_legend_handles_labels()\n",
    "        plt.legend([handles[i] for i in legend_order], [labels[i] for i in legend_order],\n",
    "                   fontsize=(fontsize - 8), loc='lower right')\n",
    "    else:\n",
    "        plt.legend(fontsize=(fontsize - 8), loc='lower right')"
   ]
  },
  {
   "cell_type": "code",
   "execution_count": null,
   "metadata": {},
   "outputs": [],
   "source": [
    "def show_curves():\n",
    "    def f(env_name, experiment_names, save_to_pdf):\n",
    "        if len(experiment_names) == 0:\n",
    "            return\n",
    "        plot_curves(env_name, experiment_names)\n",
    "        if save_to_pdf:\n",
    "            plt.savefig(f'curves-{env_name}.pdf', bbox_inches='tight')\n",
    "        else:\n",
    "            plt.show()\n",
    "\n",
    "    env_name_radio = widgets.RadioButtons(options=env_names)\n",
    "    experiment_names_select = widgets.SelectMultiple(layout=widgets.Layout(width='60%', height='150px'))\n",
    "    save_toggle = widgets.ToggleButton(description='Save to PDF')\n",
    "    def update_experiment_names_options(*_):\n",
    "        matching_experiment_names = sorted(all_curves.get(env_name_radio.value, []))\n",
    "        experiment_names_select.options = matching_experiment_names\n",
    "        experiment_names_select.rows = len(matching_experiment_names)\n",
    "        experiment_names_select.value = ()\n",
    "    env_name_radio.observe(update_experiment_names_options)\n",
    "    interact(f, env_name=env_name_radio,\n",
    "             experiment_names=experiment_names_select,\n",
    "             save_to_pdf=save_toggle)"
   ]
  },
  {
   "cell_type": "code",
   "execution_count": null,
   "metadata": {},
   "outputs": [],
   "source": [
    "show_curves()"
   ]
  },
  {
   "cell_type": "code",
   "execution_count": null,
   "metadata": {},
   "outputs": [],
   "source": [
    "def save_paper_plots():\n",
    "    # Blowing vs. pushing\n",
    "    plot_env_names = ['small_empty', 'large_empty', 'large_columns', 'large_door', 'large_center']\n",
    "    titles = ['SmallEmpty', 'LargeEmpty', 'LargeColumns', 'LargeDoor', 'LargeCenter']\n",
    "    x_tick_step_sizes = [20000, 45000, 60000, 80000, 50000]\n",
    "    x_lim_rights = [96800, 250100, 267800, 392500, 242200]\n",
    "    for env_name, title, x_tick_step_size, x_lim_right in zip(plot_env_names, titles, x_tick_step_sizes, x_lim_rights):\n",
    "        plot_curves(\n",
    "            env_name,\n",
    "            [\n",
    "                f'blowing_1-{env_name}-multifreq_4',\n",
    "                f'blowing_1-{env_name}-singlefreq_4',\n",
    "                f'pushing_1-{env_name}-singlefreq_4',\n",
    "            ],\n",
    "            title=title,\n",
    "            labels={\n",
    "                f'blowing_1-{env_name}-multifreq_4': 'Blowing (multi-freq)',\n",
    "                f'blowing_1-{env_name}-singlefreq_4': 'Blowing (single-freq)',\n",
    "                f'pushing_1-{env_name}-singlefreq_4': 'Pushing',\n",
    "            },\n",
    "            x_tick_step_size=x_tick_step_size,\n",
    "            x_lim_right=x_lim_right,\n",
    "            fontsize=40)\n",
    "        if env_name == 'small_empty':\n",
    "            plt.gca().yaxis.set_label_coords(-0.107, 0.5)\n",
    "        plt.savefig(f'curves-{env_name}.pdf', bbox_inches='tight')\n",
    "        plt.clf()\n",
    "\n",
    "    # Blowing force\n",
    "    plot_env_names = ['large_empty', 'large_center']\n",
    "    titles = ['LargeEmpty', 'LargeCenter']\n",
    "    x_tick_step_sizes = [70000, 70000]\n",
    "    x_lim_rights = [400000, 400000]\n",
    "    for env_name, title, x_tick_step_size, x_lim_right in zip(plot_env_names, titles, x_tick_step_sizes, x_lim_rights):\n",
    "        legend_order = [2, 3, 1, 0] if env_name == 'large_center' else None\n",
    "        plot_curves(\n",
    "            env_name,\n",
    "            [\n",
    "                f'blowing_1-{env_name}-multifreq_4-blowforce_0.65',\n",
    "                f'blowing_1-{env_name}-multifreq_4-blowforce_0.5',\n",
    "                f'blowing_1-{env_name}-multifreq_4',\n",
    "                f'blowing_1-{env_name}-multifreq_4-blowforce_0.2',\n",
    "            ],\n",
    "            title=title,\n",
    "            labels={\n",
    "                f'blowing_1-{env_name}-multifreq_4-blowforce_0.65': '0.65',\n",
    "                f'blowing_1-{env_name}-multifreq_4-blowforce_0.5': '0.50',\n",
    "                f'blowing_1-{env_name}-multifreq_4': '0.35',\n",
    "                f'blowing_1-{env_name}-multifreq_4-blowforce_0.2': '0.20',\n",
    "            },\n",
    "            legend_order=legend_order,\n",
    "            x_tick_step_size=x_tick_step_size,\n",
    "            x_lim_right=x_lim_right,\n",
    "            fontsize=40)\n",
    "        plt.savefig(f'curves-{env_name}-blowing_force.pdf', bbox_inches='tight')\n",
    "        plt.clf()"
   ]
  },
  {
   "cell_type": "code",
   "execution_count": null,
   "metadata": {},
   "outputs": [],
   "source": [
    "save_paper_plots()"
   ]
  },
  {
   "cell_type": "code",
   "execution_count": null,
   "metadata": {},
   "outputs": [],
   "source": []
  }
 ],
 "metadata": {
  "kernelspec": {
   "display_name": "Python 3",
   "language": "python",
   "name": "python3"
  },
  "language_info": {
   "codemirror_mode": {
    "name": "ipython",
    "version": 3
   },
   "file_extension": ".py",
   "mimetype": "text/x-python",
   "name": "python",
   "nbconvert_exporter": "python",
   "pygments_lexer": "ipython3",
   "version": "3.7.10"
  }
 },
 "nbformat": 4,
 "nbformat_minor": 2
}
